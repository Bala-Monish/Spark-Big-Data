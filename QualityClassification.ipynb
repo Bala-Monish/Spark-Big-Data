{
 "cells": [
  {
   "cell_type": "code",
   "execution_count": 1,
   "metadata": {},
   "outputs": [],
   "source": [
    "import sys\n",
    "import findspark\n",
    "findspark.init()\n",
    "from pyspark.sql import SparkSession\n",
    "spark = SparkSession.builder \\\n",
    "   .master(\"local\") \\\n",
    "   .appName(\"Wine Predictor\") \\\n",
    "   .config(\"spark.executor.memory\", \"1gb\") \\\n",
    "   .getOrCreate()\n",
    "   \n",
    "sc = spark.sparkContext\n",
    "file_location = \"winequalityN_quality.csv\"\n",
    "file_type = \"csv\"\n",
    "\n",
    "# CSV options\n",
    "infer_schema = \"true\"\n",
    "first_row_is_header = \"true\"\n",
    "delimiter = \",\"\n",
    "df = spark.read.format(file_type) \\\n",
    "  .option(\"inferSchema\", infer_schema) \\\n",
    "  .option(\"header\", first_row_is_header) \\\n",
    "  .option(\"sep\", delimiter) \\\n",
    "  .load(file_location)"
   ]
  },
  {
   "cell_type": "code",
   "execution_count": 2,
   "metadata": {},
   "outputs": [
    {
     "data": {
      "text/html": [
       "<div>\n",
       "<style scoped>\n",
       "    .dataframe tbody tr th:only-of-type {\n",
       "        vertical-align: middle;\n",
       "    }\n",
       "\n",
       "    .dataframe tbody tr th {\n",
       "        vertical-align: top;\n",
       "    }\n",
       "\n",
       "    .dataframe thead th {\n",
       "        text-align: right;\n",
       "    }\n",
       "</style>\n",
       "<table border=\"1\" class=\"dataframe\">\n",
       "  <thead>\n",
       "    <tr style=\"text-align: right;\">\n",
       "      <th></th>\n",
       "      <th>type</th>\n",
       "      <th>fixed acidity</th>\n",
       "      <th>volatile acidity</th>\n",
       "      <th>citric acid</th>\n",
       "      <th>residual sugar</th>\n",
       "      <th>chlorides</th>\n",
       "      <th>free sulfur dioxide</th>\n",
       "      <th>total sulfur dioxide</th>\n",
       "      <th>density</th>\n",
       "      <th>pH</th>\n",
       "      <th>sulphates</th>\n",
       "      <th>alcohol</th>\n",
       "      <th>quality</th>\n",
       "    </tr>\n",
       "  </thead>\n",
       "  <tbody>\n",
       "    <tr>\n",
       "      <th>0</th>\n",
       "      <td>0</td>\n",
       "      <td>7.0</td>\n",
       "      <td>0.27</td>\n",
       "      <td>0.36</td>\n",
       "      <td>20.7</td>\n",
       "      <td>0.045</td>\n",
       "      <td>45.0</td>\n",
       "      <td>170.0</td>\n",
       "      <td>1.0010</td>\n",
       "      <td>3.00</td>\n",
       "      <td>0.45</td>\n",
       "      <td>8.8</td>\n",
       "      <td>1</td>\n",
       "    </tr>\n",
       "    <tr>\n",
       "      <th>1</th>\n",
       "      <td>0</td>\n",
       "      <td>6.3</td>\n",
       "      <td>0.30</td>\n",
       "      <td>0.34</td>\n",
       "      <td>1.6</td>\n",
       "      <td>0.049</td>\n",
       "      <td>14.0</td>\n",
       "      <td>132.0</td>\n",
       "      <td>0.9940</td>\n",
       "      <td>3.30</td>\n",
       "      <td>0.49</td>\n",
       "      <td>9.5</td>\n",
       "      <td>1</td>\n",
       "    </tr>\n",
       "    <tr>\n",
       "      <th>2</th>\n",
       "      <td>0</td>\n",
       "      <td>8.1</td>\n",
       "      <td>0.28</td>\n",
       "      <td>0.40</td>\n",
       "      <td>6.9</td>\n",
       "      <td>0.050</td>\n",
       "      <td>30.0</td>\n",
       "      <td>97.0</td>\n",
       "      <td>0.9951</td>\n",
       "      <td>3.26</td>\n",
       "      <td>0.44</td>\n",
       "      <td>10.1</td>\n",
       "      <td>1</td>\n",
       "    </tr>\n",
       "  </tbody>\n",
       "</table>\n",
       "</div>"
      ],
      "text/plain": [
       "   type  fixed acidity  volatile acidity  citric acid  residual sugar  \\\n",
       "0     0            7.0              0.27         0.36            20.7   \n",
       "1     0            6.3              0.30         0.34             1.6   \n",
       "2     0            8.1              0.28         0.40             6.9   \n",
       "\n",
       "   chlorides  free sulfur dioxide  total sulfur dioxide  density    pH  \\\n",
       "0      0.045                 45.0                 170.0   1.0010  3.00   \n",
       "1      0.049                 14.0                 132.0   0.9940  3.30   \n",
       "2      0.050                 30.0                  97.0   0.9951  3.26   \n",
       "\n",
       "   sulphates  alcohol  quality  \n",
       "0       0.45      8.8        1  \n",
       "1       0.49      9.5        1  \n",
       "2       0.44     10.1        1  "
      ]
     },
     "execution_count": 2,
     "metadata": {},
     "output_type": "execute_result"
    }
   ],
   "source": [
    "import pandas as pd\n",
    "pd.DataFrame(df.take(3), columns = df.columns)"
   ]
  },
  {
   "cell_type": "code",
   "execution_count": 3,
   "metadata": {},
   "outputs": [
    {
     "data": {
      "text/html": [
       "<div>\n",
       "<style scoped>\n",
       "    .dataframe tbody tr th:only-of-type {\n",
       "        vertical-align: middle;\n",
       "    }\n",
       "\n",
       "    .dataframe tbody tr th {\n",
       "        vertical-align: top;\n",
       "    }\n",
       "\n",
       "    .dataframe thead th {\n",
       "        text-align: right;\n",
       "    }\n",
       "</style>\n",
       "<table border=\"1\" class=\"dataframe\">\n",
       "  <thead>\n",
       "    <tr style=\"text-align: right;\">\n",
       "      <th></th>\n",
       "      <th>type</th>\n",
       "      <th>fixed acidity</th>\n",
       "      <th>volatile acidity</th>\n",
       "      <th>citric acid</th>\n",
       "      <th>residual sugar</th>\n",
       "      <th>chlorides</th>\n",
       "      <th>free sulfur dioxide</th>\n",
       "      <th>total sulfur dioxide</th>\n",
       "      <th>density</th>\n",
       "      <th>pH</th>\n",
       "      <th>sulphates</th>\n",
       "      <th>alcohol</th>\n",
       "      <th>quality</th>\n",
       "    </tr>\n",
       "  </thead>\n",
       "  <tbody>\n",
       "    <tr>\n",
       "      <th>0</th>\n",
       "      <td>0</td>\n",
       "      <td>10</td>\n",
       "      <td>8</td>\n",
       "      <td>3</td>\n",
       "      <td>2</td>\n",
       "      <td>2</td>\n",
       "      <td>0</td>\n",
       "      <td>0</td>\n",
       "      <td>0</td>\n",
       "      <td>9</td>\n",
       "      <td>4</td>\n",
       "      <td>0</td>\n",
       "      <td>0</td>\n",
       "    </tr>\n",
       "  </tbody>\n",
       "</table>\n",
       "</div>"
      ],
      "text/plain": [
       "   type  fixed acidity  volatile acidity  citric acid  residual sugar  \\\n",
       "0     0             10                 8            3               2   \n",
       "\n",
       "   chlorides  free sulfur dioxide  total sulfur dioxide  density  pH  \\\n",
       "0          2                    0                     0        0   9   \n",
       "\n",
       "   sulphates  alcohol  quality  \n",
       "0          4        0        0  "
      ]
     },
     "execution_count": 3,
     "metadata": {},
     "output_type": "execute_result"
    }
   ],
   "source": [
    "from pyspark.sql import functions  as f\n",
    "df_na = df.select([f.count(f.when(f.isnull(c), c)).alias(c) for c in df.columns])\n",
    "pd.DataFrame(df_na.take(3),columns = df_na.columns)"
   ]
  },
  {
   "cell_type": "code",
   "execution_count": 4,
   "metadata": {},
   "outputs": [
    {
     "data": {
      "text/html": [
       "<div>\n",
       "<style scoped>\n",
       "    .dataframe tbody tr th:only-of-type {\n",
       "        vertical-align: middle;\n",
       "    }\n",
       "\n",
       "    .dataframe tbody tr th {\n",
       "        vertical-align: top;\n",
       "    }\n",
       "\n",
       "    .dataframe thead th {\n",
       "        text-align: right;\n",
       "    }\n",
       "</style>\n",
       "<table border=\"1\" class=\"dataframe\">\n",
       "  <thead>\n",
       "    <tr style=\"text-align: right;\">\n",
       "      <th></th>\n",
       "      <th>type</th>\n",
       "      <th>fixed acidity</th>\n",
       "      <th>volatile acidity</th>\n",
       "      <th>citric acid</th>\n",
       "      <th>residual sugar</th>\n",
       "      <th>chlorides</th>\n",
       "      <th>free sulfur dioxide</th>\n",
       "      <th>total sulfur dioxide</th>\n",
       "      <th>density</th>\n",
       "      <th>pH</th>\n",
       "      <th>sulphates</th>\n",
       "      <th>alcohol</th>\n",
       "      <th>quality</th>\n",
       "      <th>sulphates_imputed</th>\n",
       "      <th>citric acid_imputed</th>\n",
       "      <th>residual sugar_imputed</th>\n",
       "      <th>volatile acidity_imputed</th>\n",
       "      <th>pH_imputed</th>\n",
       "      <th>fixed acidity_imputed</th>\n",
       "      <th>chlorides_imputed</th>\n",
       "    </tr>\n",
       "  </thead>\n",
       "  <tbody>\n",
       "    <tr>\n",
       "      <th>0</th>\n",
       "      <td>0</td>\n",
       "      <td>7.0</td>\n",
       "      <td>0.27</td>\n",
       "      <td>0.36</td>\n",
       "      <td>20.7</td>\n",
       "      <td>0.045</td>\n",
       "      <td>45.0</td>\n",
       "      <td>170.0</td>\n",
       "      <td>1.0010</td>\n",
       "      <td>3.00</td>\n",
       "      <td>0.45</td>\n",
       "      <td>8.8</td>\n",
       "      <td>1</td>\n",
       "      <td>0.45</td>\n",
       "      <td>0.36</td>\n",
       "      <td>20.7</td>\n",
       "      <td>0.27</td>\n",
       "      <td>3.00</td>\n",
       "      <td>7.0</td>\n",
       "      <td>0.045</td>\n",
       "    </tr>\n",
       "    <tr>\n",
       "      <th>1</th>\n",
       "      <td>0</td>\n",
       "      <td>6.3</td>\n",
       "      <td>0.30</td>\n",
       "      <td>0.34</td>\n",
       "      <td>1.6</td>\n",
       "      <td>0.049</td>\n",
       "      <td>14.0</td>\n",
       "      <td>132.0</td>\n",
       "      <td>0.9940</td>\n",
       "      <td>3.30</td>\n",
       "      <td>0.49</td>\n",
       "      <td>9.5</td>\n",
       "      <td>1</td>\n",
       "      <td>0.49</td>\n",
       "      <td>0.34</td>\n",
       "      <td>1.6</td>\n",
       "      <td>0.30</td>\n",
       "      <td>3.30</td>\n",
       "      <td>6.3</td>\n",
       "      <td>0.049</td>\n",
       "    </tr>\n",
       "    <tr>\n",
       "      <th>2</th>\n",
       "      <td>0</td>\n",
       "      <td>8.1</td>\n",
       "      <td>0.28</td>\n",
       "      <td>0.40</td>\n",
       "      <td>6.9</td>\n",
       "      <td>0.050</td>\n",
       "      <td>30.0</td>\n",
       "      <td>97.0</td>\n",
       "      <td>0.9951</td>\n",
       "      <td>3.26</td>\n",
       "      <td>0.44</td>\n",
       "      <td>10.1</td>\n",
       "      <td>1</td>\n",
       "      <td>0.44</td>\n",
       "      <td>0.40</td>\n",
       "      <td>6.9</td>\n",
       "      <td>0.28</td>\n",
       "      <td>3.26</td>\n",
       "      <td>8.1</td>\n",
       "      <td>0.050</td>\n",
       "    </tr>\n",
       "  </tbody>\n",
       "</table>\n",
       "</div>"
      ],
      "text/plain": [
       "   type  fixed acidity  volatile acidity  citric acid  residual sugar  \\\n",
       "0     0            7.0              0.27         0.36            20.7   \n",
       "1     0            6.3              0.30         0.34             1.6   \n",
       "2     0            8.1              0.28         0.40             6.9   \n",
       "\n",
       "   chlorides  free sulfur dioxide  total sulfur dioxide  density    pH  \\\n",
       "0      0.045                 45.0                 170.0   1.0010  3.00   \n",
       "1      0.049                 14.0                 132.0   0.9940  3.30   \n",
       "2      0.050                 30.0                  97.0   0.9951  3.26   \n",
       "\n",
       "   sulphates  alcohol  quality  sulphates_imputed  citric acid_imputed  \\\n",
       "0       0.45      8.8        1               0.45                 0.36   \n",
       "1       0.49      9.5        1               0.49                 0.34   \n",
       "2       0.44     10.1        1               0.44                 0.40   \n",
       "\n",
       "   residual sugar_imputed  volatile acidity_imputed  pH_imputed  \\\n",
       "0                    20.7                      0.27        3.00   \n",
       "1                     1.6                      0.30        3.30   \n",
       "2                     6.9                      0.28        3.26   \n",
       "\n",
       "   fixed acidity_imputed  chlorides_imputed  \n",
       "0                    7.0              0.045  \n",
       "1                    6.3              0.049  \n",
       "2                    8.1              0.050  "
      ]
     },
     "execution_count": 4,
     "metadata": {},
     "output_type": "execute_result"
    }
   ],
   "source": [
    "excl = [\"type\",\"free sulfur dioxide\",\"total sulfur dioxide\",\"density\",\"alcohol\",\"quality\"]\n",
    "from pyspark.ml.feature import Imputer\n",
    "fill_list = [\"fixed acidity\",\"volatile acidity\",\"citric acid\",\"residual sugar\",\"chlorides\",\"pH\",\"sulphates\"]\n",
    "imputer = Imputer(\n",
    "    inputCols=fill_list, \n",
    "    outputCols=[\"{}_imputed\".format(c) for c in fill_list]\n",
    ")\n",
    "model = imputer.fit(df)\n",
    "df2 = model.transform(df)\n",
    "pd.DataFrame(df2.take(3),columns = df2.columns)"
   ]
  },
  {
   "cell_type": "code",
   "execution_count": 5,
   "metadata": {},
   "outputs": [
    {
     "data": {
      "text/html": [
       "<div>\n",
       "<style scoped>\n",
       "    .dataframe tbody tr th:only-of-type {\n",
       "        vertical-align: middle;\n",
       "    }\n",
       "\n",
       "    .dataframe tbody tr th {\n",
       "        vertical-align: top;\n",
       "    }\n",
       "\n",
       "    .dataframe thead th {\n",
       "        text-align: right;\n",
       "    }\n",
       "</style>\n",
       "<table border=\"1\" class=\"dataframe\">\n",
       "  <thead>\n",
       "    <tr style=\"text-align: right;\">\n",
       "      <th></th>\n",
       "      <th>type</th>\n",
       "      <th>free sulfur dioxide</th>\n",
       "      <th>total sulfur dioxide</th>\n",
       "      <th>density</th>\n",
       "      <th>alcohol</th>\n",
       "      <th>quality</th>\n",
       "      <th>sulphates_imputed</th>\n",
       "      <th>citric acid_imputed</th>\n",
       "      <th>residual sugar_imputed</th>\n",
       "      <th>volatile acidity_imputed</th>\n",
       "      <th>pH_imputed</th>\n",
       "      <th>fixed acidity_imputed</th>\n",
       "      <th>chlorides_imputed</th>\n",
       "    </tr>\n",
       "  </thead>\n",
       "  <tbody>\n",
       "    <tr>\n",
       "      <th>0</th>\n",
       "      <td>0</td>\n",
       "      <td>45.0</td>\n",
       "      <td>170.0</td>\n",
       "      <td>1.001</td>\n",
       "      <td>8.8</td>\n",
       "      <td>1</td>\n",
       "      <td>0.45</td>\n",
       "      <td>0.36</td>\n",
       "      <td>20.7</td>\n",
       "      <td>0.27</td>\n",
       "      <td>3.0</td>\n",
       "      <td>7.0</td>\n",
       "      <td>0.045</td>\n",
       "    </tr>\n",
       "    <tr>\n",
       "      <th>1</th>\n",
       "      <td>0</td>\n",
       "      <td>14.0</td>\n",
       "      <td>132.0</td>\n",
       "      <td>0.994</td>\n",
       "      <td>9.5</td>\n",
       "      <td>1</td>\n",
       "      <td>0.49</td>\n",
       "      <td>0.34</td>\n",
       "      <td>1.6</td>\n",
       "      <td>0.30</td>\n",
       "      <td>3.3</td>\n",
       "      <td>6.3</td>\n",
       "      <td>0.049</td>\n",
       "    </tr>\n",
       "  </tbody>\n",
       "</table>\n",
       "</div>"
      ],
      "text/plain": [
       "   type  free sulfur dioxide  total sulfur dioxide  density  alcohol  quality  \\\n",
       "0     0                 45.0                 170.0    1.001      8.8        1   \n",
       "1     0                 14.0                 132.0    0.994      9.5        1   \n",
       "\n",
       "   sulphates_imputed  citric acid_imputed  residual sugar_imputed  \\\n",
       "0               0.45                 0.36                    20.7   \n",
       "1               0.49                 0.34                     1.6   \n",
       "\n",
       "   volatile acidity_imputed  pH_imputed  fixed acidity_imputed  \\\n",
       "0                      0.27         3.0                    7.0   \n",
       "1                      0.30         3.3                    6.3   \n",
       "\n",
       "   chlorides_imputed  \n",
       "0              0.045  \n",
       "1              0.049  "
      ]
     },
     "execution_count": 5,
     "metadata": {},
     "output_type": "execute_result"
    }
   ],
   "source": [
    "df2 = df2.drop(\"fixed acidity\",\"volatile acidity\",\"citric acid\",\"residual sugar\",\"chlorides\",\"pH\",\"sulphates\")\n",
    "pd.DataFrame(df2.take(2),columns = df2.columns)"
   ]
  },
  {
   "cell_type": "code",
   "execution_count": 6,
   "metadata": {},
   "outputs": [
    {
     "data": {
      "text/html": [
       "<div>\n",
       "<style scoped>\n",
       "    .dataframe tbody tr th:only-of-type {\n",
       "        vertical-align: middle;\n",
       "    }\n",
       "\n",
       "    .dataframe tbody tr th {\n",
       "        vertical-align: top;\n",
       "    }\n",
       "\n",
       "    .dataframe thead th {\n",
       "        text-align: right;\n",
       "    }\n",
       "</style>\n",
       "<table border=\"1\" class=\"dataframe\">\n",
       "  <thead>\n",
       "    <tr style=\"text-align: right;\">\n",
       "      <th></th>\n",
       "      <th>type</th>\n",
       "      <th>free sulfur dioxide</th>\n",
       "      <th>total sulfur dioxide</th>\n",
       "      <th>density</th>\n",
       "      <th>alcohol</th>\n",
       "      <th>quality</th>\n",
       "      <th>sulphates</th>\n",
       "      <th>citric acid</th>\n",
       "      <th>residual sugar</th>\n",
       "      <th>volatile acidity</th>\n",
       "      <th>pH</th>\n",
       "      <th>fixed acidity</th>\n",
       "      <th>chlorides</th>\n",
       "    </tr>\n",
       "  </thead>\n",
       "  <tbody>\n",
       "    <tr>\n",
       "      <th>0</th>\n",
       "      <td>0</td>\n",
       "      <td>45.0</td>\n",
       "      <td>170.0</td>\n",
       "      <td>1.0010</td>\n",
       "      <td>8.8</td>\n",
       "      <td>1</td>\n",
       "      <td>0.45</td>\n",
       "      <td>0.36</td>\n",
       "      <td>20.7</td>\n",
       "      <td>0.27</td>\n",
       "      <td>3.00</td>\n",
       "      <td>7.0</td>\n",
       "      <td>0.045</td>\n",
       "    </tr>\n",
       "    <tr>\n",
       "      <th>1</th>\n",
       "      <td>0</td>\n",
       "      <td>14.0</td>\n",
       "      <td>132.0</td>\n",
       "      <td>0.9940</td>\n",
       "      <td>9.5</td>\n",
       "      <td>1</td>\n",
       "      <td>0.49</td>\n",
       "      <td>0.34</td>\n",
       "      <td>1.6</td>\n",
       "      <td>0.30</td>\n",
       "      <td>3.30</td>\n",
       "      <td>6.3</td>\n",
       "      <td>0.049</td>\n",
       "    </tr>\n",
       "    <tr>\n",
       "      <th>2</th>\n",
       "      <td>0</td>\n",
       "      <td>30.0</td>\n",
       "      <td>97.0</td>\n",
       "      <td>0.9951</td>\n",
       "      <td>10.1</td>\n",
       "      <td>1</td>\n",
       "      <td>0.44</td>\n",
       "      <td>0.40</td>\n",
       "      <td>6.9</td>\n",
       "      <td>0.28</td>\n",
       "      <td>3.26</td>\n",
       "      <td>8.1</td>\n",
       "      <td>0.050</td>\n",
       "    </tr>\n",
       "  </tbody>\n",
       "</table>\n",
       "</div>"
      ],
      "text/plain": [
       "   type  free sulfur dioxide  total sulfur dioxide  density  alcohol  quality  \\\n",
       "0     0                 45.0                 170.0   1.0010      8.8        1   \n",
       "1     0                 14.0                 132.0   0.9940      9.5        1   \n",
       "2     0                 30.0                  97.0   0.9951     10.1        1   \n",
       "\n",
       "   sulphates  citric acid  residual sugar  volatile acidity    pH  \\\n",
       "0       0.45         0.36            20.7              0.27  3.00   \n",
       "1       0.49         0.34             1.6              0.30  3.30   \n",
       "2       0.44         0.40             6.9              0.28  3.26   \n",
       "\n",
       "   fixed acidity  chlorides  \n",
       "0            7.0      0.045  \n",
       "1            6.3      0.049  \n",
       "2            8.1      0.050  "
      ]
     },
     "execution_count": 6,
     "metadata": {},
     "output_type": "execute_result"
    }
   ],
   "source": [
    "df2 = df2.withColumnRenamed('fixed acidity_imputed',\"fixed acidity\").withColumnRenamed('volatile acidity_imputed',\"volatile acidity\")\\\n",
    ".withColumnRenamed('citric acid_imputed',\"citric acid\").withColumnRenamed('residual sugar_imputed',\"residual sugar\")\\\n",
    ".withColumnRenamed('chlorides_imputed',\"chlorides\").withColumnRenamed('sulphates_imputed',\"sulphates\")\\\n",
    ".withColumnRenamed('pH_imputed',\"pH\")\n",
    "pd.DataFrame(df2.take(3),columns = df2.columns)"
   ]
  },
  {
   "cell_type": "code",
   "execution_count": 7,
   "metadata": {},
   "outputs": [],
   "source": [
    "features = [\"fixed acidity\",\"volatile acidity\",\"citric acid\",\"residual sugar\",\"chlorides\",\"free sulfur dioxide\",\"total sulfur dioxide\",\"density\",\"pH\",\"sulphates\",\"alcohol\",\"type\"]\n",
    "from pyspark.ml.linalg import Vectors\n",
    "from pyspark.ml.feature import VectorAssembler,StringIndexer\n",
    "assembler_features = VectorAssembler(inputCols = features,outputCol = 'features')\n",
    "#labelIndexer = StringIndexer(inputCol ='quality',outputCol='qualityIndex').setHandleInvalid(\"skip\")\n",
    "stages = []\n",
    "stages += [assembler_features]\n"
   ]
  },
  {
   "cell_type": "code",
   "execution_count": 8,
   "metadata": {},
   "outputs": [],
   "source": [
    "low = df2.filter(\"quality == '0'\")\n",
    "medium = df2.filter(\"quality == '1'\")\n",
    "high = df2.filter(\"quality == '2'\")"
   ]
  },
  {
   "cell_type": "code",
   "execution_count": 10,
   "metadata": {},
   "outputs": [
    {
     "data": {
      "image/png": "[encoded data removed]",
      "text/plain": [
       "<Figure size 432x288 with 1 Axes>"
      ]
     },
     "metadata": {
      "needs_background": "light"
     },
     "output_type": "display_data"
    }
   ],
   "source": [
    "import numpy as np \n",
    "import matplotlib.pyplot as plt \n",
    "responses = df2.groupBy ('quality'). count (). collect () \n",
    "categories = [i [0] for i in responses] \n",
    "counts = [i [1] for i in responses] \n",
    "ind = np.array (range ( len (categories))) \n",
    "width = 0.5 \n",
    "plt.bar (ind, counts, width = width, color = 'b') \n",
    "plt.ylabel ('counts') \n",
    "plt.title ('label distribution') \n",
    "plt.xticks (ind + width / 2., categories) \n",
    "plt.show ()"
   ]
  },
  {
   "cell_type": "code",
   "execution_count": 66,
   "metadata": {},
   "outputs": [
    {
     "data": {
      "text/plain": [
       "246"
      ]
     },
     "execution_count": 66,
     "metadata": {},
     "output_type": "execute_result"
    }
   ],
   "source": [
    "low.count()"
   ]
  },
  {
   "cell_type": "code",
   "execution_count": 67,
   "metadata": {},
   "outputs": [
    {
     "data": {
      "text/plain": [
       "6053"
      ]
     },
     "execution_count": 67,
     "metadata": {},
     "output_type": "execute_result"
    }
   ],
   "source": [
    "medium.count()"
   ]
  },
  {
   "cell_type": "code",
   "execution_count": 68,
   "metadata": {},
   "outputs": [
    {
     "data": {
      "text/plain": [
       "198"
      ]
     },
     "execution_count": 68,
     "metadata": {},
     "output_type": "execute_result"
    }
   ],
   "source": [
    "high.count()"
   ]
  },
  {
   "cell_type": "code",
   "execution_count": 11,
   "metadata": {},
   "outputs": [],
   "source": [
    "sampleRatio = float (low.count ()) / float (df2.count ())\n",
    "medium_filtered = medium.sample (False, sampleRatio)\n"
   ]
  },
  {
   "cell_type": "code",
   "execution_count": 12,
   "metadata": {},
   "outputs": [
    {
     "data": {
      "text/plain": [
       "229"
      ]
     },
     "execution_count": 12,
     "metadata": {},
     "output_type": "execute_result"
    }
   ],
   "source": [
    "medium_filtered.count()"
   ]
  },
  {
   "cell_type": "code",
   "execution_count": 13,
   "metadata": {},
   "outputs": [],
   "source": [
    "df2 = medium_filtered.unionAll (high).unionAll(low)"
   ]
  },
  {
   "cell_type": "code",
   "execution_count": 14,
   "metadata": {},
   "outputs": [
    {
     "data": {
      "image/png": "[encoded data removed]",
      "text/plain": [
       "<Figure size 432x288 with 1 Axes>"
      ]
     },
     "metadata": {
      "needs_background": "light"
     },
     "output_type": "display_data"
    }
   ],
   "source": [
    "import numpy as np \n",
    "import matplotlib.pyplot as plt \n",
    "responses = df2.groupBy ('quality'). count (). collect () \n",
    "categories = [i [0] for i in responses] \n",
    "counts = [i [1] for i in responses] \n",
    "ind = np.array (range ( len (categories))) \n",
    "width = 0.5 \n",
    "plt.bar (ind, counts, width = width, color = 'b') \n",
    "plt.ylabel ('counts') \n",
    "plt.title ('label distribution') \n",
    "plt.xticks (ind + width / 2., categories) \n",
    "plt.show ()"
   ]
  },
  {
   "cell_type": "code",
   "execution_count": 15,
   "metadata": {},
   "outputs": [],
   "source": [
    "from pyspark.ml import Pipeline\n",
    "pipeline = Pipeline(stages = stages)"
   ]
  },
  {
   "cell_type": "code",
   "execution_count": 16,
   "metadata": {},
   "outputs": [],
   "source": [
    "allData = pipeline.fit(df2).transform(df2)\n",
    "allData.cache()\n",
    "trainingData, testData = allData.randomSplit([0.7,0.3], seed=0)\n"
   ]
  },
  {
   "cell_type": "code",
   "execution_count": 76,
   "metadata": {},
   "outputs": [
    {
     "data": {
      "text/html": [
       "<div>\n",
       "<style scoped>\n",
       "    .dataframe tbody tr th:only-of-type {\n",
       "        vertical-align: middle;\n",
       "    }\n",
       "\n",
       "    .dataframe tbody tr th {\n",
       "        vertical-align: top;\n",
       "    }\n",
       "\n",
       "    .dataframe thead th {\n",
       "        text-align: right;\n",
       "    }\n",
       "</style>\n",
       "<table border=\"1\" class=\"dataframe\">\n",
       "  <thead>\n",
       "    <tr style=\"text-align: right;\">\n",
       "      <th></th>\n",
       "      <th>type</th>\n",
       "      <th>free sulfur dioxide</th>\n",
       "      <th>total sulfur dioxide</th>\n",
       "      <th>density</th>\n",
       "      <th>alcohol</th>\n",
       "      <th>quality</th>\n",
       "      <th>sulphates</th>\n",
       "      <th>citric acid</th>\n",
       "      <th>residual sugar</th>\n",
       "      <th>volatile acidity</th>\n",
       "      <th>pH</th>\n",
       "      <th>fixed acidity</th>\n",
       "      <th>chlorides</th>\n",
       "      <th>features</th>\n",
       "    </tr>\n",
       "  </thead>\n",
       "  <tbody>\n",
       "    <tr>\n",
       "      <th>0</th>\n",
       "      <td>0</td>\n",
       "      <td>8.0</td>\n",
       "      <td>120.0</td>\n",
       "      <td>0.99767</td>\n",
       "      <td>9.6</td>\n",
       "      <td>1</td>\n",
       "      <td>0.53</td>\n",
       "      <td>0.25</td>\n",
       "      <td>15.0</td>\n",
       "      <td>0.20</td>\n",
       "      <td>3.19</td>\n",
       "      <td>6.2</td>\n",
       "      <td>0.055</td>\n",
       "      <td>[6.2, 0.2, 0.25, 15.0, 0.055, 8.0, 120.0, 0.99...</td>\n",
       "    </tr>\n",
       "    <tr>\n",
       "      <th>1</th>\n",
       "      <td>0</td>\n",
       "      <td>10.0</td>\n",
       "      <td>51.0</td>\n",
       "      <td>0.98878</td>\n",
       "      <td>12.6</td>\n",
       "      <td>1</td>\n",
       "      <td>0.58</td>\n",
       "      <td>0.32</td>\n",
       "      <td>2.5</td>\n",
       "      <td>0.15</td>\n",
       "      <td>3.04</td>\n",
       "      <td>5.4</td>\n",
       "      <td>0.037</td>\n",
       "      <td>[5.4, 0.15, 0.32, 2.5, 0.037, 10.0, 51.0, 0.98...</td>\n",
       "    </tr>\n",
       "    <tr>\n",
       "      <th>2</th>\n",
       "      <td>0</td>\n",
       "      <td>12.0</td>\n",
       "      <td>120.0</td>\n",
       "      <td>0.98940</td>\n",
       "      <td>14.0</td>\n",
       "      <td>1</td>\n",
       "      <td>0.79</td>\n",
       "      <td>0.21</td>\n",
       "      <td>2.6</td>\n",
       "      <td>0.29</td>\n",
       "      <td>3.39</td>\n",
       "      <td>5.8</td>\n",
       "      <td>0.025</td>\n",
       "      <td>[5.8, 0.29, 0.21, 2.6, 0.025, 12.0, 120.0, 0.9...</td>\n",
       "    </tr>\n",
       "  </tbody>\n",
       "</table>\n",
       "</div>"
      ],
      "text/plain": [
       "   type  free sulfur dioxide  total sulfur dioxide  density  alcohol  quality  \\\n",
       "0     0                  8.0                 120.0  0.99767      9.6        1   \n",
       "1     0                 10.0                  51.0  0.98878     12.6        1   \n",
       "2     0                 12.0                 120.0  0.98940     14.0        1   \n",
       "\n",
       "   sulphates  citric acid  residual sugar  volatile acidity    pH  \\\n",
       "0       0.53         0.25            15.0              0.20  3.19   \n",
       "1       0.58         0.32             2.5              0.15  3.04   \n",
       "2       0.79         0.21             2.6              0.29  3.39   \n",
       "\n",
       "   fixed acidity  chlorides                                           features  \n",
       "0            6.2      0.055  [6.2, 0.2, 0.25, 15.0, 0.055, 8.0, 120.0, 0.99...  \n",
       "1            5.4      0.037  [5.4, 0.15, 0.32, 2.5, 0.037, 10.0, 51.0, 0.98...  \n",
       "2            5.8      0.025  [5.8, 0.29, 0.21, 2.6, 0.025, 12.0, 120.0, 0.9...  "
      ]
     },
     "execution_count": 76,
     "metadata": {},
     "output_type": "execute_result"
    }
   ],
   "source": [
    "pd.DataFrame(trainingData.take(3),columns = trainingData.columns)"
   ]
  },
  {
   "cell_type": "code",
   "execution_count": 45,
   "metadata": {},
   "outputs": [
    {
     "name": "stdout",
     "output_type": "stream",
     "text": [
      "Accuracy = 0.6476683937823834\n",
      "Error = 0.352332 \n"
     ]
    }
   ],
   "source": [
    "trainingData = trainingData.withColumnRenamed('quality','label')\n",
    "testData = testData.withColumnRenamed('quality','label')\n",
    "\n",
    "#RandomForest\n",
    "from pyspark.ml.classification import RandomForestClassifier as RF\n",
    "rf = RF(labelCol='label', featuresCol='features',numTrees=200)\n",
    "fit = rf.fit(trainingData)\n",
    "transformed = fit.transform(testData)\n",
    "from pyspark.ml.evaluation import MulticlassClassificationEvaluator\n",
    "from pyspark.mllib.evaluation import MulticlassMetrics\n",
    "rf_evaluator = MulticlassClassificationEvaluator(labelCol=\"label\", predictionCol=\"prediction\",\n",
    "                                              metricName=\"accuracy\")\n",
    "rf_accuracy = rf_evaluator.evaluate(transformed)\n",
    "print(\"Accuracy = \" + str(rf_accuracy))\n",
    "print(\"Error = %g \" % (1.0 - rf_accuracy))"
   ]
  },
  {
   "cell_type": "code",
   "execution_count": 46,
   "metadata": {},
   "outputs": [
    {
     "data": {
      "text/html": [
       "<div>\n",
       "<style scoped>\n",
       "    .dataframe tbody tr th:only-of-type {\n",
       "        vertical-align: middle;\n",
       "    }\n",
       "\n",
       "    .dataframe tbody tr th {\n",
       "        vertical-align: top;\n",
       "    }\n",
       "\n",
       "    .dataframe thead th {\n",
       "        text-align: right;\n",
       "    }\n",
       "</style>\n",
       "<table border=\"1\" class=\"dataframe\">\n",
       "  <thead>\n",
       "    <tr style=\"text-align: right;\">\n",
       "      <th></th>\n",
       "      <th>type</th>\n",
       "      <th>free sulfur dioxide</th>\n",
       "      <th>total sulfur dioxide</th>\n",
       "      <th>density</th>\n",
       "      <th>alcohol</th>\n",
       "      <th>label</th>\n",
       "      <th>sulphates</th>\n",
       "      <th>citric acid</th>\n",
       "      <th>residual sugar</th>\n",
       "      <th>volatile acidity</th>\n",
       "      <th>pH</th>\n",
       "      <th>fixed acidity</th>\n",
       "      <th>chlorides</th>\n",
       "      <th>features</th>\n",
       "      <th>rawPrediction</th>\n",
       "      <th>probability</th>\n",
       "      <th>prediction</th>\n",
       "    </tr>\n",
       "  </thead>\n",
       "  <tbody>\n",
       "    <tr>\n",
       "      <th>0</th>\n",
       "      <td>0</td>\n",
       "      <td>4.0</td>\n",
       "      <td>117.0</td>\n",
       "      <td>0.99032</td>\n",
       "      <td>12.2</td>\n",
       "      <td>1</td>\n",
       "      <td>0.44</td>\n",
       "      <td>0.34</td>\n",
       "      <td>1.9</td>\n",
       "      <td>0.235</td>\n",
       "      <td>3.40</td>\n",
       "      <td>6.2</td>\n",
       "      <td>0.036</td>\n",
       "      <td>[6.2, 0.235, 0.34, 1.9, 0.036, 4.0, 117.0, 0.9...</td>\n",
       "      <td>[103.61044989400482, 25.367404048602143, 71.02...</td>\n",
       "      <td>[0.518052249470024, 0.12683702024301072, 0.355...</td>\n",
       "      <td>0.0</td>\n",
       "    </tr>\n",
       "    <tr>\n",
       "      <th>1</th>\n",
       "      <td>0</td>\n",
       "      <td>8.0</td>\n",
       "      <td>97.0</td>\n",
       "      <td>0.99270</td>\n",
       "      <td>11.0</td>\n",
       "      <td>1</td>\n",
       "      <td>0.41</td>\n",
       "      <td>0.30</td>\n",
       "      <td>5.7</td>\n",
       "      <td>0.350</td>\n",
       "      <td>3.27</td>\n",
       "      <td>6.3</td>\n",
       "      <td>0.035</td>\n",
       "      <td>[6.3, 0.35, 0.3, 5.7, 0.035, 8.0, 97.0, 0.9927...</td>\n",
       "      <td>[125.14662772992943, 36.89475718599793, 37.958...</td>\n",
       "      <td>[0.6257331386496473, 0.18447378592998973, 0.18...</td>\n",
       "      <td>0.0</td>\n",
       "    </tr>\n",
       "  </tbody>\n",
       "</table>\n",
       "</div>"
      ],
      "text/plain": [
       "   type  free sulfur dioxide  total sulfur dioxide  density  alcohol  label  \\\n",
       "0     0                  4.0                 117.0  0.99032     12.2      1   \n",
       "1     0                  8.0                  97.0  0.99270     11.0      1   \n",
       "\n",
       "   sulphates  citric acid  residual sugar  volatile acidity    pH  \\\n",
       "0       0.44         0.34             1.9             0.235  3.40   \n",
       "1       0.41         0.30             5.7             0.350  3.27   \n",
       "\n",
       "   fixed acidity  chlorides  \\\n",
       "0            6.2      0.036   \n",
       "1            6.3      0.035   \n",
       "\n",
       "                                            features  \\\n",
       "0  [6.2, 0.235, 0.34, 1.9, 0.036, 4.0, 117.0, 0.9...   \n",
       "1  [6.3, 0.35, 0.3, 5.7, 0.035, 8.0, 97.0, 0.9927...   \n",
       "\n",
       "                                       rawPrediction  \\\n",
       "0  [103.61044989400482, 25.367404048602143, 71.02...   \n",
       "1  [125.14662772992943, 36.89475718599793, 37.958...   \n",
       "\n",
       "                                         probability  prediction  \n",
       "0  [0.518052249470024, 0.12683702024301072, 0.355...         0.0  \n",
       "1  [0.6257331386496473, 0.18447378592998973, 0.18...         0.0  "
      ]
     },
     "execution_count": 46,
     "metadata": {},
     "output_type": "execute_result"
    }
   ],
   "source": [
    "pd.DataFrame(transformed.take(2),columns = transformed.columns)"
   ]
  },
  {
   "cell_type": "markdown",
   "metadata": {},
   "source": [
    "predict_labels = transformed.select(\"prediction\",\"label\")\n",
    "pred_label_rdd = predict_labels.rdd\n",
    "multi_metrics = MulticlassMetrics(pred_label_rdd)\n",
    "print(\"Precision: %.3f\" % (multi_metrics.precision() * 100))\n",
    "print(\"Recall: %.3f\" % (multi_metrics.recall() * 100))\n",
    "f1measure = multi_metrics.fMeasure()\n",
    "print(\"F1 Score: %.3f\"%(f1measure*100))"
   ]
  },
  {
   "cell_type": "code",
   "execution_count": 48,
   "metadata": {},
   "outputs": [],
   "source": [
    "from pyspark.sql.types import DoubleType\n",
    "transformed_after = transformed.withColumn('label', transformed['label'].cast('double'))"
   ]
  },
  {
   "cell_type": "code",
   "execution_count": 49,
   "metadata": {},
   "outputs": [
    {
     "name": "stdout",
     "output_type": "stream",
     "text": [
      "root\n",
      " |-- type: integer (nullable = true)\n",
      " |-- free sulfur dioxide: double (nullable = true)\n",
      " |-- total sulfur dioxide: double (nullable = true)\n",
      " |-- density: double (nullable = true)\n",
      " |-- alcohol: double (nullable = true)\n",
      " |-- label: double (nullable = true)\n",
      " |-- sulphates: double (nullable = true)\n",
      " |-- citric acid: double (nullable = true)\n",
      " |-- residual sugar: double (nullable = true)\n",
      " |-- volatile acidity: double (nullable = true)\n",
      " |-- pH: double (nullable = true)\n",
      " |-- fixed acidity: double (nullable = true)\n",
      " |-- chlorides: double (nullable = true)\n",
      " |-- features: vector (nullable = true)\n",
      " |-- rawPrediction: vector (nullable = true)\n",
      " |-- probability: vector (nullable = true)\n",
      " |-- prediction: double (nullable = false)\n",
      "\n"
     ]
    }
   ],
   "source": [
    "transformed_after.printSchema()"
   ]
  },
  {
   "cell_type": "code",
   "execution_count": 51,
   "metadata": {},
   "outputs": [
    {
     "name": "stdout",
     "output_type": "stream",
     "text": [
      "Summary Stats Random Forest\n",
      "Accuracy = 0.6476683937823834\n",
      "Precision = 0.6476683937823834\n",
      "Recall = 0.6476683937823834\n",
      "F1 Score = 0.6476683937823834\n"
     ]
    }
   ],
   "source": [
    "predict_labels = transformed_after.select(\"prediction\",\"label\")\n",
    "pred_label_rdd = predict_labels.rdd\n",
    "rf_metrics = MulticlassMetrics(pred_label_rdd)\n",
    "rf_precision = rf_metrics.precision()\n",
    "rf_recall = rf_metrics.recall()\n",
    "rf_f1Score = rf_metrics.fMeasure()\n",
    "\n",
    "print(\"Summary Stats Random Forest\")\n",
    "print(\"Accuracy = %s\" % rf_accuracy)\n",
    "print(\"Precision = %s\" % rf_precision)\n",
    "print(\"Recall = %s\" % rf_recall)\n",
    "print(\"F1 Score = %s\" % rf_f1Score)"
   ]
  },
  {
   "cell_type": "code",
   "execution_count": 68,
   "metadata": {},
   "outputs": [],
   "source": [
    "from pyspark.ml.classification import LogisticRegression\n",
    "\n",
    "# Create initial LogisticRegression model\n",
    "lr = LogisticRegression(labelCol=\"label\", featuresCol=\"features\", maxIter=10)\n",
    "trainingData_con = trainingData.withColumn('label', trainingData['label'].cast('double'))\n",
    "testData_con = testData.withColumn('label', testData['label'].cast('double'))\n",
    "# Train model with Training Data\n",
    "lrModel = lr.fit(trainingData_con)\n",
    "# LogisticRegression.transform() will only use the 'features' column.\n",
    "predictions = lrModel.transform(testData_con)\n"
   ]
  },
  {
   "cell_type": "code",
   "execution_count": 66,
   "metadata": {},
   "outputs": [],
   "source": [
    "#predictions_after = predictions.withColumn('label', predictions['label'].cast('double'))"
   ]
  },
  {
   "cell_type": "code",
   "execution_count": 69,
   "metadata": {},
   "outputs": [
    {
     "name": "stdout",
     "output_type": "stream",
     "text": [
      "Precision: 39.378\n",
      "Recall: 39.378\n",
      "F1 Score: 39.378\n"
     ]
    }
   ],
   "source": [
    "predict_labels = predictions_after.select(\"prediction\",\"label\")\n",
    "pred_label_rdd = predict_labels.rdd\n",
    "from pyspark.mllib.evaluation import BinaryClassificationMetrics\n",
    "metrics = BinaryClassificationMetrics(pred_label_rdd)\n",
    "#print(\"Area under Precision/Recall (PR) curve: %.3f\" % (metrics.areaUnderPR * 100))\n",
    "multi_metrics = MulticlassMetrics(pred_label_rdd)\n",
    "print(\"Precision: %.3f\" % (multi_metrics.precision() * 100))\n",
    "print(\"Recall: %.3f\" % (multi_metrics.recall() * 100))\n",
    "f1measure = multi_metrics.fMeasure()\n",
    "print(\"F1 Score: %.3f\"%(f1measure*100))"
   ]
  },
  {
   "cell_type": "code",
   "execution_count": null,
   "metadata": {},
   "outputs": [],
   "source": []
  }
 ],
 "metadata": {
  "kernelspec": {
   "display_name": "Python 3",
   "language": "python",
   "name": "python3"
  },
  "language_info": {
   "codemirror_mode": {
    "name": "ipython",
    "version": 3
   },
   "file_extension": ".py",
   "mimetype": "text/x-python",
   "name": "python",
   "nbconvert_exporter": "python",
   "pygments_lexer": "ipython3",
   "version": "3.7.1"
  }
 },
 "nbformat": 4,
 "nbformat_minor": 2
}
